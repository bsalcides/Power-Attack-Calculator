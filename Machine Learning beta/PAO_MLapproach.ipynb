{
 "cells": [
  {
   "attachments": {},
   "cell_type": "markdown",
   "metadata": {},
   "source": [
    "### Generate CSV with attack data"
   ]
  },
  {
   "cell_type": "code",
   "execution_count": 42,
   "metadata": {},
   "outputs": [
    {
     "name": "stdout",
     "output_type": "stream",
     "text": [
      "1000 / 1000\r"
     ]
    }
   ],
   "source": [
    "import numpy as np\n",
    "import csv\n",
    "from random import randint\n",
    "\n",
    "def dmgCalc(AB, AC, critrange, critmult, critconfirmbonus, multdmg, nonmultdmg):\n",
    "    roll = randint(1,20)\n",
    "    atkroll = AB + roll\n",
    "\n",
    "    if ((atkroll >= AC) or (roll == 20)) and (roll != 1): #hit\n",
    "\n",
    "        rolledmultdmg = 0\n",
    "        for _ in range(multdmg[\"numberofdice\"]):\n",
    "            rolledmultdmg += randint(1,multdmg[\"sizeofdice\"])\n",
    "        rolledmultdmg += multdmg[\"dmgbonus\"]\n",
    "\n",
    "        rollednonmultdmg = 0\n",
    "        for _ in range(nonmultdmg[\"numberofdice\"]):\n",
    "            rollednonmultdmg += randint(1,nonmultdmg[\"sizeofdice\"])\n",
    "        rollednonmultdmg += nonmultdmg[\"dmgbonus\"]\n",
    "\n",
    "        if (roll >= critrange): #crit threat\n",
    "            critconfirmroll = AB+critconfirmbonus+randint(1,20)\n",
    "\n",
    "            if (critconfirmroll >= AC): #crit confirmed\n",
    "                dmg = rolledmultdmg*critmult + rollednonmultdmg\n",
    "            else: #crit not confirmed\n",
    "                dmg = rolledmultdmg + rollednonmultdmg\n",
    "\n",
    "        else: #regular hit\n",
    "            dmg = rolledmultdmg + rollednonmultdmg\n",
    "\n",
    "    else: #miss\n",
    "        dmg = 0\n",
    "\n",
    "    return dmg\n",
    "\n",
    "def getstats(AB, AC, critrange, critmult, critconfirmbonus, multdmg, nonmultdmg, iterations):\n",
    "    result = []\n",
    "    for _ in range(iterations):\n",
    "        result.append(dmgCalc(AB, AC, critrange, critmult, critconfirmbonus, multdmg, nonmultdmg))\n",
    "    avg = np.mean(result)\n",
    "    std = np.std(result)\n",
    "    return avg, std\n",
    "\n",
    "\n",
    "DATASIZE = 1000\n",
    "ITERATIONS = 10000\n",
    "\n",
    "f = open('dmgdata.csv', 'w', newline='')\n",
    "writer = csv.writer(f)\n",
    "header = ['AB-AC', 'Crit Range', 'Crit Mult', 'Crit Confirm Bonus', 'Mult Dmg', 'Non Mult Dmg', 'Mean', 'Standard Deviation']\n",
    "writer.writerow(header)\n",
    "\n",
    "for i in range(DATASIZE):\n",
    "    AB = randint(-10,100)\n",
    "    AC = randint(0,100)\n",
    "    critrange = randint(16,20)\n",
    "    critmult = randint(1,4)\n",
    "    critconfirmbonus = randint(0,3)\n",
    "    multdmg = {\"numberofdice\": randint(0,12), \"sizeofdice\": randint(4,12), \"dmgbonus\": randint(-5,200)}\n",
    "    nonmultdmg = {\"numberofdice\": randint(0,12), \"sizeofdice\": randint(4,8), \"dmgbonus\": randint(0,50)}\n",
    "\n",
    "    avg, std = getstats(AB, AC, critrange, critmult, critconfirmbonus, multdmg, nonmultdmg, ITERATIONS)\n",
    "\n",
    "    row = [AB-AC, critrange, critmult, critconfirmbonus, multdmg[\"numberofdice\"] * ((multdmg[\"sizeofdice\"]+1)/2) + multdmg[\"dmgbonus\"], nonmultdmg[\"numberofdice\"] * ((nonmultdmg[\"sizeofdice\"]+1)/2) + nonmultdmg[\"dmgbonus\"], avg, std ]\n",
    "\n",
    "    writer.writerow(row)\n",
    "\n",
    "    print(i+1, '/', DATASIZE, end=\"\\r\")\n",
    "\n",
    "f.close()"
   ]
  },
  {
   "attachments": {},
   "cell_type": "markdown",
   "metadata": {},
   "source": [
    "### ML implementation"
   ]
  },
  {
   "cell_type": "code",
   "execution_count": 46,
   "metadata": {},
   "outputs": [
    {
     "name": "stdout",
     "output_type": "stream",
     "text": [
      "R^2 Score:  0.6958223470639027\n",
      "Intercept:  111.17150455875202\n",
      "Coefficients:  [71.47979007 -9.28634269  7.74281181 -3.78991443 44.11329355 10.51504414]\n"
     ]
    }
   ],
   "source": [
    "import pandas as pd\n",
    "from sklearn import linear_model\n",
    "\n",
    "\n",
    "data=pd.read_csv(\"dmgdata.csv\")\n",
    "\n",
    "data_in = data.loc[:,'AB-AC':'Non Mult Dmg']\n",
    "data_target_mean = data.loc[:,'Mean']\n",
    "data_target_std = data.loc[:,'Standard Deviation']\n",
    "\n",
    "\n",
    "#normalization\n",
    "data_in_norm=(data_in-data_in.mean(numeric_only=True))/data_in.std(numeric_only=True)\n",
    "\n",
    "data_in_norm_train = data_in_norm.iloc[:800,:]\n",
    "data_in_norm_test = data_in_norm.iloc[800:,:]\n",
    "\n",
    "data_target_mean_train = data_target_mean.iloc[:800]\n",
    "data_target_mean_test = data_target_mean.iloc[800:]\n",
    "\n",
    "data_target_std_train = data_target_std.iloc[:800]\n",
    "data_target_std_test = data_target_std.iloc[800:]\n",
    "\n",
    "data_target = data.loc[:,'Mean':'Standard Deviation']\n",
    "data_target_train = data_target.iloc[:800]\n",
    "data_target_test = data_target.iloc[800:]\n",
    "\n",
    "\n",
    "#ridge regression\n",
    "λ = 0\n",
    "\n",
    "regr = linear_model.Ridge(alpha=λ)\n",
    "\n",
    "regr.fit(data_in_norm_train.to_numpy(), data_target_mean_train.to_numpy())\n",
    "\n",
    "print(\"R^2 Score: \", regr.score(data_in_norm_test.to_numpy(), data_target_mean_test.to_numpy()))\n",
    "print(\"Intercept: \", regr.intercept_)\n",
    "print(\"Coefficients: \", regr.coef_)"
   ]
  },
  {
   "attachments": {},
   "cell_type": "markdown",
   "metadata": {},
   "source": [
    "### Deu ruim\n",
    ":(\n",
    "\n",
    "\n",
    "### Again!"
   ]
  },
  {
   "cell_type": "code",
   "execution_count": 47,
   "metadata": {},
   "outputs": [
    {
     "name": "stdout",
     "output_type": "stream",
     "text": [
      "Score:  0.9950706431789003\n"
     ]
    }
   ],
   "source": [
    "from sklearn.neural_network import MLPRegressor\n",
    "\n",
    "clf = MLPRegressor(max_iter=100000, random_state=9, hidden_layer_sizes=(100,100), activation='relu', alpha=0, learning_rate='adaptive', tol=1e-6 )\n",
    "\n",
    "clf.fit(data_in_norm_train.to_numpy(), data_target_train.to_numpy())\n",
    "\n",
    "print(\"Score: \", clf.score(data_in_norm_test.to_numpy(), data_target_test.to_numpy()))"
   ]
  },
  {
   "cell_type": "code",
   "execution_count": 48,
   "metadata": {},
   "outputs": [],
   "source": [
    "NNres = clf.predict(data_in_norm_test.to_numpy())"
   ]
  },
  {
   "cell_type": "code",
   "execution_count": 58,
   "metadata": {},
   "outputs": [
    {
     "name": "stdout",
     "output_type": "stream",
     "text": [
      "[[ 9.44275095 46.02460131]]\n"
     ]
    }
   ],
   "source": [
    "import numpy as np\n",
    "\n",
    "AB = 48\n",
    "AC = 50\n",
    "critrange = 18\n",
    "critmult = 4\n",
    "critconfirmbonus = 1\n",
    "multdmg = {\"numberofdice\": 3, \"sizeofdice\": 6, \"dmgbonus\": 62}\n",
    "nonmultdmg = {\"numberofdice\": 5, \"sizeofdice\": 4, \"dmgbonus\": 2}\n",
    "\n",
    "AB_AC = AB-AC\n",
    "multdmg = multdmg[\"numberofdice\"]*(multdmg[\"sizeofdice\"]+1)/2 + multdmg[\"dmgbonus\"]\n",
    "nonmultdmg = nonmultdmg[\"numberofdice\"]*(nonmultdmg[\"sizeofdice\"]+1)/2 + nonmultdmg[\"dmgbonus\"]\n",
    "\n",
    "a = np.asarray([AB_AC, critrange, critmult, critconfirmbonus, multdmg, nonmultdmg])\n",
    "a = (a-np.mean(data_in.to_numpy()))/np.std(data_in.to_numpy())\n",
    "a = a.reshape(1, -1)\n",
    "\n",
    "\n",
    "print(clf.predict(a))"
   ]
  },
  {
   "attachments": {},
   "cell_type": "markdown",
   "metadata": {},
   "source": [
    "### Analylical Approach "
   ]
  },
  {
   "cell_type": "code",
   "execution_count": 1,
   "metadata": {},
   "outputs": [],
   "source": [
    "def dmgCalc(AB, AC, critrange, critmult, critconfirmbonus, multdmg, nonmultdmg):\n",
    "    roll = randint(1,20)\n",
    "    atkroll = AB + roll\n",
    "\n",
    "    if ((atkroll >= AC) or (roll == 20)) and (roll != 1): #hit\n",
    "\n",
    "        rolledmultdmg = 0\n",
    "        for _ in range(multdmg[\"numberofdice\"]):\n",
    "            rolledmultdmg += randint(1,multdmg[\"sizeofdice\"])\n",
    "        rolledmultdmg += multdmg[\"dmgbonus\"]\n",
    "\n",
    "        rollednonmultdmg = 0\n",
    "        for _ in range(nonmultdmg[\"numberofdice\"]):\n",
    "            rollednonmultdmg += randint(1,nonmultdmg[\"sizeofdice\"])\n",
    "        rollednonmultdmg += nonmultdmg[\"dmgbonus\"]\n",
    "\n",
    "        if (roll >= critrange): #crit threat\n",
    "            critconfirmroll = randint(1,20)\n",
    "            critconfirmatkroll = AB+critconfirmbonus+critconfirmroll\n",
    "\n",
    "            if ((critconfirmatkroll >= AC) and (critconfirmroll != 1)) or (critconfirmroll == 20): #crit confirmed\n",
    "                dmg = rolledmultdmg*critmult + rollednonmultdmg\n",
    "            else: #crit not confirmed\n",
    "                dmg = rolledmultdmg + rollednonmultdmg\n",
    "\n",
    "        else: #regular hit\n",
    "            dmg = rolledmultdmg + rollednonmultdmg\n",
    "\n",
    "    else: #miss\n",
    "        dmg = 0\n",
    "\n",
    "    return dmg"
   ]
  },
  {
   "cell_type": "code",
   "execution_count": 2,
   "metadata": {},
   "outputs": [],
   "source": [
    "import numpy as np"
   ]
  },
  {
   "cell_type": "code",
   "execution_count": 60,
   "metadata": {},
   "outputs": [],
   "source": [
    "AB = 48\n",
    "AC = 50\n",
    "critrange = 18\n",
    "critmult = 4\n",
    "critconfirmbonus = 1\n",
    "multdmg = {\"numberofdice\": 3, \"sizeofdice\": 6, \"dmgbonus\": 62}\n",
    "nonmultdmg = {\"numberofdice\": 5, \"sizeofdice\": 4, \"dmgbonus\": 2}\n",
    "\n",
    "critfailchance = 1 / 20\n",
    "misschance = max( [ min((AC-AB-2), 18), 0 ] ) / 20\n",
    "normalhitchance = max( [ min((21-(AC-AB)), 19) - (21-critrange), 0 ] ) / 20\n",
    "critconfirmfailchance = ( min((20-critrange), max(critrange-(AC-AB-2), 0)) / 20) * (min(max(((AC-(AB+critconfirmbonus))-1), 1), 19) / 20) \n",
    "critconfirmsuccchance = (min((20-critrange), max(critrange-(AC-AB-2), 0)) / 20) * (max(min((21-(AC-(AB+critconfirmbonus))), 19), 1) / 20)\n",
    "nat20failchance = (1 / 20) * (min(max(((AC-(AB+critconfirmbonus))-1), 1), 19) / 20)  \n",
    "nat20succchance = (1 / 20) * (max(min((21-(AC-(AB+critconfirmbonus))), 19), 1) / 20)"
   ]
  },
  {
   "attachments": {},
   "cell_type": "markdown",
   "metadata": {},
   "source": [
    "Propriedades das distruibuições:\\\n",
    "https://eng.libretexts.org/Bookshelves/Computer_Science/Programming_and_Computation_Fundamentals/Mathematics_for_Computer_Science_(Lehman_Leighton_and_Meyer)/04%3A_Probability/19%3A_Deviation_from_the_Mean/19.03%3A_Properties_of_Variance\\\n",
    "https://proofwiki.org/wiki/Variance_of_Discrete_Uniform_Distribution\\\n",
    "https://stats.stackexchange.com/questions/16608/what-is-the-variance-of-the-weighted-mixture-of-two-gaussians"
   ]
  },
  {
   "cell_type": "code",
   "execution_count": 61,
   "metadata": {},
   "outputs": [
    {
     "name": "stdout",
     "output_type": "stream",
     "text": [
      "mean:  113.64375000000001\n",
      "std:  80.74921415058786\n"
     ]
    }
   ],
   "source": [
    "probzero = critfailchance+misschance\n",
    "probnormaldmg = normalhitchance+critconfirmfailchance+nat20failchance\n",
    "probcritdmg = critconfirmsuccchance+nat20succchance\n",
    "\n",
    "\n",
    "\n",
    "normaldmgmean = (multdmg[\"numberofdice\"] * ((multdmg[\"sizeofdice\"]+1)/2) + multdmg[\"dmgbonus\"]) + (nonmultdmg[\"numberofdice\"] * ((nonmultdmg[\"sizeofdice\"]+1)/2) + nonmultdmg[\"dmgbonus\"])\n",
    "critdmgmean = critmult*(multdmg[\"numberofdice\"] * ((multdmg[\"sizeofdice\"]+1)/2) + multdmg[\"dmgbonus\"]) + (nonmultdmg[\"numberofdice\"] * ((nonmultdmg[\"sizeofdice\"]+1)/2) + nonmultdmg[\"dmgbonus\"])\n",
    "\n",
    "totaldmgmean = (probzero * 0) + (probnormaldmg * normaldmgmean) + (probcritdmg * critdmgmean)\n",
    "\n",
    "\n",
    "\n",
    "\n",
    "multdicevar = ((multdmg[\"sizeofdice\"]**2)-1)/12\n",
    "nonmultdicevar = ((nonmultdmg[\"sizeofdice\"]**2)-1)/12\n",
    "\n",
    "normaldmgvar = ((multdmg[\"numberofdice\"]**2)*multdicevar) + ((nonmultdmg[\"numberofdice\"]**2)*nonmultdicevar)\n",
    "critdmgvar = ( (critmult**2) * (multdmg[\"numberofdice\"]**2) * multdicevar ) + ((nonmultdmg[\"numberofdice\"]**2)*nonmultdicevar)\n",
    "\n",
    "\n",
    "totaldmgvar = probzero*0 + probnormaldmg*normaldmgvar + probcritdmg*critdmgvar + ((probzero*(0**2) + probnormaldmg*(normaldmgmean**2) + probcritdmg*(critdmgmean**2)) - (totaldmgmean**2))\n",
    "\n",
    "print(\"mean: \", totaldmgmean)\n",
    "print(\"std: \", np.sqrt(totaldmgvar))\n",
    "\n",
    "\n"
   ]
  },
  {
   "cell_type": "code",
   "execution_count": 13,
   "metadata": {},
   "outputs": [
    {
     "name": "stdout",
     "output_type": "stream",
     "text": [
      "mean:  113.678424\n",
      "std:  80.30946547497517\n"
     ]
    }
   ],
   "source": [
    "from random import randint, random\n",
    "\n",
    "IT = 1000000\n",
    "dmgs = []\n",
    "for _ in range(IT):\n",
    "    if random() >= misschancestat:\n",
    "        dmgs.append(dmgCalc(AB, AC, critrange, critmult, critconfirmbonus, multdmg, nonmultdmg))\n",
    "    else:\n",
    "        dmgs.append(0)\n",
    "\n",
    "print(\"mean: \", np.mean(dmgs))\n",
    "print(\"std: \", np.std(dmgs))\n",
    "\n"
   ]
  },
  {
   "cell_type": "code",
   "execution_count": 62,
   "metadata": {},
   "outputs": [
    {
     "data": {
      "text/plain": [
       "<matplotlib.patches.StepPatch at 0x21c10d25030>"
      ]
     },
     "execution_count": 62,
     "metadata": {},
     "output_type": "execute_result"
    },
    {
     "data": {
      "image/png": "[encoded data removed]",
      "text/plain": [
       "<Figure size 640x480 with 1 Axes>"
      ]
     },
     "metadata": {},
     "output_type": "display_data"
    }
   ],
   "source": [
    "import matplotlib.pyplot as plt\n",
    "\n",
    "counts, bins = np.histogram(dmgs)\n",
    "plt.stairs(counts, bins)"
   ]
  }
 ],
 "metadata": {
  "kernelspec": {
   "display_name": "Python 3",
   "language": "python",
   "name": "python3"
  },
  "language_info": {
   "codemirror_mode": {
    "name": "ipython",
    "version": 3
   },
   "file_extension": ".py",
   "mimetype": "text/x-python",
   "name": "python",
   "nbconvert_exporter": "python",
   "pygments_lexer": "ipython3",
   "version": "3.10.6"
  },
  "orig_nbformat": 4,
  "vscode": {
   "interpreter": {
    "hash": "44960730bc3e11639d1c2ec9ebb592298c444ce74f34c770bd42825ed979f14b"
   }
  }
 },
 "nbformat": 4,
 "nbformat_minor": 2
}
